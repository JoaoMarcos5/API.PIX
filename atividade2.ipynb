{
 "cells": [
  {
   "cell_type": "markdown",
   "id": "14573f99",
   "metadata": {},
   "source": [
    "<H2> COLETAR DADOS <H2>\n",
    "\n",
    "<h3> Nessa seção vamos coletar os dados da Api.Pix banco central\n"
   ]
  },
  {
   "cell_type": "code",
   "execution_count": 62,
   "id": "39b59555",
   "metadata": {},
   "outputs": [],
   "source": [
    "import pandas as pd\n",
    "import requests\n",
    "import matplotlib "
   ]
  },
  {
   "cell_type": "code",
   "execution_count": 63,
   "id": "7ea9167e",
   "metadata": {},
   "outputs": [],
   "source": [
    "urls_2023 = {\n",
    "    \"chavespix\": \"https://olinda.bcb.gov.br/olinda/servico/Pix_DadosAbertos/versao/v1/odata/ChavesPix(Data=@Data)?@Data='2023-01-01'&$top=100&$format=json\",\n",
    "    \"estatisticas\": \"https://olinda.bcb.gov.br/olinda/servico/Pix_DadosAbertos/versao/v1/odata/TransacoesPixPorMunicipio(DataBase=@DataBase)?@DataBase='2023'&$top=100&$format=json\",\n",
    "    \"transacoes_municipio\": \"https://olinda.bcb.gov.br/olinda/servico/Pix_DadosAbertos/versao/v1/odata/TransacoesPixPorMunicipio(DataBase=@DataBase)?@DataBase='2023'&$top=100&$format=json\"\n",
    "}\n"
   ]
  },
  {
   "cell_type": "code",
   "execution_count": 64,
   "id": "30bd8829",
   "metadata": {},
   "outputs": [],
   "source": [
    "def consultar_dados_pix(url, data):\n",
    "    try:\n",
    "        resp = requests.get(url)\n",
    "        resp.raise_for_status()\n",
    "        dados_json = resp.json()\n",
    "        registros = dados_json.get(\"value\", [])\n",
    "        if not registros:\n",
    "            print(f\"Atenção: Nenhum dado encontrado para {data} na URL {url}\")\n",
    "            return pd.DataFrame()\n",
    "        df = pd.DataFrame(registros)\n",
    "        # Adiciona coluna data referência\n",
    "        df[\"data_referencia\"] = pd.to_datetime(data, errors='coerce')\n",
    "        return df\n",
    "    except Exception as e:\n",
    "        print(f\"Erro ao consultar dados para {data}: {e}\")\n",
    "        return pd.DataFrame()\n"
   ]
  },
  {
   "cell_type": "code",
   "execution_count": 65,
   "id": "284133c3",
   "metadata": {},
   "outputs": [],
   "source": [
    "# Datas/anos para coleta\n",
    "anos = [\"2023-01-01\", \"2024-01-01\", \"2025-01-01\"]\n"
   ]
  },
  {
   "cell_type": "code",
   "execution_count": 67,
   "id": "4252769f",
   "metadata": {},
   "outputs": [],
   "source": [
    "dados_completos = {\n",
    "    \"chavespix\": pd.DataFrame(),\n",
    "    \"estatisticas\": pd.DataFrame(),\n",
    "    \"transacoes_municipio\": pd.DataFrame()\n",
    "}\n"
   ]
  },
  {
   "cell_type": "code",
   "execution_count": 68,
   "id": "57fda9c3",
   "metadata": {},
   "outputs": [
    {
     "name": "stdout",
     "output_type": "stream",
     "text": [
      "Consultando dados para 2023-01-01...\n",
      "Consultando dados para 2024-01-01...\n",
      "Consultando dados para 2025-01-01...\n"
     ]
    }
   ],
   "source": [
    "for ano in anos:\n",
    "    print(f\"Consultando dados para {ano}...\")\n",
    "    for chave, template_url in url_templates.items():\n",
    "        # Substituir placeholder {{DATA}} na URL\n",
    "        url = template_url.replace(\"{{DATA}}\", ano if chave == \"chavespix\" else ano[:4])\n",
    "        df = consultar_dados_pix(url, ano)\n",
    "        if not df.empty:\n",
    "            dados_completos[chave] = pd.concat([dados_completos[chave], df], ignore_index=True)\n"
   ]
  },
  {
   "cell_type": "code",
   "execution_count": 69,
   "id": "fe436e24",
   "metadata": {},
   "outputs": [],
   "source": [
    "def tratar_df(df, renomear_cols):\n",
    "    # Renomear colunas\n",
    "    df = df.rename(columns=renomear_cols)\n",
    "\n",
    "    # Verificar dados faltantes\n",
    "    print(\"\\nDados faltantes por coluna:\")\n",
    "    print(df.isnull().sum())\n",
    "\n",
    "    # Ajustar tipos (exemplo: datas)\n",
    "    if \"data_referencia\" in df.columns:\n",
    "        df[\"data_referencia\"] = pd.to_datetime(df[\"data_referencia\"], errors='coerce')\n",
    "\n",
    "    # Padronizar nomes de colunas para minúsculo e sem espaços\n",
    "    df.columns = [col.strip().lower().replace(\" \", \"_\") for col in df.columns]\n",
    "    \n",
    "    return df"
   ]
  },
  {
   "cell_type": "code",
   "execution_count": 70,
   "id": "f31d93c5",
   "metadata": {},
   "outputs": [],
   "source": [
    "renomear_transacoes = {\n",
    "    \"municipio_ibge\": \"municipio_ibge\",\n",
    "    \"municipio\": \"municipio\",\n",
    "    \"estado_ibge\": \"estado_ibge\",\n",
    "    \"estado\": \"estado\",\n",
    "    \"sigla_regiao\": \"sigla_regiao\",\n",
    "    \"regiao\": \"regiao\",\n",
    "    \"vl_pagadorpf\": \"vl_pagadorpf\",\n",
    "    \"qt_pagadorpf\": \"qt_pagadorpf\",\n",
    "    \"vl_pagadorpj\": \"vl_pagadorpj\",\n",
    "    \"qt_pagadorpj\": \"qt_pagadorpj\",\n",
    "    \"vl_recebedorpf\": \"vl_recebedorpf\",\n",
    "    \"qt_recebedorpf\": \"qt_recebedorpf\",\n",
    "    \"vl_recebedorpj\": \"vl_recebedorpj\",\n",
    "    \"qt_recebedorpj\": \"qt_recebedorpj\",\n",
    "    \"qt_pes_pagadorpf\": \"qt_pes_pagadorpf\",\n",
    "    \"qt_pes_pagadorpj\": \"qt_pes_pagadorpj\",\n",
    "    \"qt_pes_recebedorpf\": \"qt_pes_recebedorpf\",\n",
    "    \"qt_pes_recebedorpj\": \"qt_pes_recebedorpj\",\n",
    "    \"data_referencia\": \"data_referencia\"\n",
    "}\n"
   ]
  },
  {
   "cell_type": "code",
   "execution_count": 71,
   "id": "67b32730",
   "metadata": {},
   "outputs": [
    {
     "name": "stdout",
     "output_type": "stream",
     "text": [
      "\n",
      "Dados faltantes por coluna:\n",
      "AnoMes                0\n",
      "Municipio_Ibge        0\n",
      "Municipio             0\n",
      "Estado_Ibge           0\n",
      "Estado                0\n",
      "Sigla_Regiao          0\n",
      "Regiao                0\n",
      "VL_PagadorPF          0\n",
      "QT_PagadorPF          0\n",
      "VL_PagadorPJ          0\n",
      "QT_PagadorPJ          0\n",
      "VL_RecebedorPF        0\n",
      "QT_RecebedorPF        0\n",
      "VL_RecebedorPJ        0\n",
      "QT_RecebedorPJ        0\n",
      "QT_PES_PagadorPF      0\n",
      "QT_PES_PagadorPJ      0\n",
      "QT_PES_RecebedorPF    0\n",
      "QT_PES_RecebedorPJ    0\n",
      "data_referencia       0\n",
      "dtype: int64\n"
     ]
    }
   ],
   "source": [
    "df_transacoes = tratar_df(dados_completos[\"transacoes_municipio\"], renomear_transacoes)"
   ]
  },
  {
   "cell_type": "code",
   "execution_count": 74,
   "id": "c64107bb",
   "metadata": {},
   "outputs": [
    {
     "name": "stdout",
     "output_type": "stream",
     "text": [
      "Index(['anomes', 'municipio_ibge', 'municipio', 'estado_ibge', 'estado',\n",
      "       'sigla_regiao', 'regiao', 'vl_pagadorpf', 'qt_pagadorpf',\n",
      "       'vl_pagadorpj', 'qt_pagadorpj', 'vl_recebedorpf', 'qt_recebedorpf',\n",
      "       'vl_recebedorpj', 'qt_recebedorpj', 'qt_pes_pagadorpf',\n",
      "       'qt_pes_pagadorpj', 'qt_pes_recebedorpf', 'qt_pes_recebedorpj',\n",
      "       'data_referencia', 'total_transacoes'],\n",
      "      dtype='object')\n",
      "municipio\n",
      "VITÓRIA DO XINGU        6177390\n",
      "MIRADOR                 5796300\n",
      "NOVO GAMA               4825085\n",
      "UBIRATÃ                 4316607\n",
      "CORBÉLIA                4216203\n",
      "COLORADO                3530737\n",
      "CONSELHEIRO LAFAIETE    3501204\n",
      "SANTA MARIA DO OESTE    3107330\n",
      "IRANDUBA                2835596\n",
      "BUENOS AIRES            2824640\n",
      "Name: total_transacoes, dtype: int64\n"
     ]
    }
   ],
   "source": [
    "# Mostrar colunas para checar nomes\n",
    "print(df_transacoes.columns)\n",
    "\n",
    "# Criar coluna total_transacoes\n",
    "df_transacoes[\"total_transacoes\"] = (\n",
    "    df_transacoes[\"qt_pagadorpf\"].fillna(0) +\n",
    "    df_transacoes[\"qt_pagadorpj\"].fillna(0) +\n",
    "    df_transacoes[\"qt_recebedorpf\"].fillna(0) +\n",
    "    df_transacoes[\"qt_recebedorpj\"].fillna(0)\n",
    ")\n",
    "\n",
    "# Agora sim agrupar e somar\n",
    "top_municipios = (\n",
    "    df_transacoes.groupby(\"municipio\")[\"total_transacoes\"]\n",
    "    .sum()\n",
    "    .sort_values(ascending=False)\n",
    "    .head(10)\n",
    ")\n",
    "\n",
    "print(top_municipios)\n"
   ]
  },
  {
   "cell_type": "code",
   "execution_count": 75,
   "id": "92132b00",
   "metadata": {},
   "outputs": [
    {
     "name": "stdout",
     "output_type": "stream",
     "text": [
      "\n",
      "Top 10 municípios com mais transações Pix (2023-2025):\n",
      "municipio\n",
      "VITÓRIA DO XINGU        6177390\n",
      "MIRADOR                 5796300\n",
      "NOVO GAMA               4825085\n",
      "UBIRATÃ                 4316607\n",
      "CORBÉLIA                4216203\n",
      "COLORADO                3530737\n",
      "CONSELHEIRO LAFAIETE    3501204\n",
      "SANTA MARIA DO OESTE    3107330\n",
      "IRANDUBA                2835596\n",
      "BUENOS AIRES            2824640\n",
      "Name: total_transacoes, dtype: int64\n"
     ]
    }
   ],
   "source": [
    "top_municipios = (\n",
    "    df_transacoes.groupby(\"municipio\")[\"total_transacoes\"]\n",
    "    .sum()\n",
    "    .sort_values(ascending=False)\n",
    "    .head(10)\n",
    ")\n",
    "\n",
    "print(\"\\nTop 10 municípios com mais transações Pix (2023-2025):\")\n",
    "print(top_municipios)"
   ]
  },
  {
   "cell_type": "code",
   "execution_count": 76,
   "id": "486e8a8d",
   "metadata": {},
   "outputs": [
    {
     "data": {
      "image/png": "[encoded data removed]",
      "text/plain": [
       "<Figure size 1200x600 with 1 Axes>"
      ]
     },
     "metadata": {},
     "output_type": "display_data"
    }
   ],
   "source": [
    "plt.figure(figsize=(12, 6))\n",
    "top_municipios.plot(kind=\"bar\", color=\"royalblue\")\n",
    "plt.title(\"Top 10 Municípios com Mais Transações Pix (2023–2025)\")\n",
    "plt.xlabel(\"Município\")\n",
    "plt.ylabel(\"Total de Transações\")\n",
    "plt.xticks(rotation=45)\n",
    "plt.grid(axis=\"y\")\n",
    "plt.tight_layout()\n",
    "plt.show()\n"
   ]
  }
 ],
 "metadata": {
  "kernelspec": {
   "display_name": ".venv (3.11.9)",
   "language": "python",
   "name": "python3"
  },
  "language_info": {
   "codemirror_mode": {
    "name": "ipython",
    "version": 3
   },
   "file_extension": ".py",
   "mimetype": "text/x-python",
   "name": "python",
   "nbconvert_exporter": "python",
   "pygments_lexer": "ipython3",
   "version": "3.11.9"
  }
 },
 "nbformat": 4,
 "nbformat_minor": 5
}
